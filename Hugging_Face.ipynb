{
  "nbformat": 4,
  "nbformat_minor": 0,
  "metadata": {
    "colab": {
      "name": "Hugging Face.ipynb",
      "provenance": []
    },
    "kernelspec": {
      "name": "python3",
      "display_name": "Python 3"
    },
    "language_info": {
      "name": "python"
    }
  },
  "cells": [
    {
      "cell_type": "code",
      "source": [
        "import numpy as np # linear algebra\n",
        "import pandas as pd # data processing"
      ],
      "metadata": {
        "id": "OsXzYugqQwP0"
      },
      "execution_count": 3,
      "outputs": []
    },
    {
      "cell_type": "code",
      "source": [
        "ARTICLE = \"\"\" Chatbots are intelligent digital assistants which may address customer’s basic and predictable queries. They offer numerous services via chatting and perform basic customer service operations. Chatbots work 24/7 and hence they provide assistance when offices are closed on holidays.\n",
        "\n",
        "There are a variety of synonyms for chatbot, including “talkbot,” “bot,” “IM bot,” “interactive agent” or “artificial conversation entity.“\n",
        "\n",
        "Most organizations have already started implementing chatbots on their sites especially on banking, airlines, and e-commerce websites.\n",
        "\n",
        "Some more samples of chatbot technology are virtual assistants like Amazon’s Alexa, Google Assistant, and Messaging apps, like WeChat and Facebook messenger.\n",
        "\n",
        "Nowadays, chatbots are becoming more complex and advanced features like taking customer’s complaint, performing transactions by taking customer’s input, even alerting real human supported the query posted. Chatbots are getting context-aware and may engage end-users supported by the context set during the conversation.\n",
        "AIML stands for computing language. it’s an XML dialect for creating tongue software agents. \n",
        "\n",
        "AIML contains a collection of rules which define the conversational capabilities of the chatbot. it’s used with a linguistic communication Understanding (NLU) processor which takes AIML rules to investigate and reply to the text queries asked via the chatbot. The more rules we add in AIML – the more intelligent the chatbot is.\n",
        "\n",
        "AIML based chatbots come under the rule-based chatbots category, however, some level of self-learning feature is feasible.​​​​​​​\n",
        "AIML is that the language to make a brain for chatbots.\n",
        "NLU in chatbots process AIML and their chat behavior is controlled through AIML rules.\n",
        "One chatbot application can have multiple sets of AIML and might behave differently.​​​​​​​\n",
        "The below flow diagram shows how AIML based chatbot can work with a range of input, which essentially represents the texts with identical meaning.\n",
        "\n",
        "The three texts “take call”, “accept call”, and “join call” end up in the identical action of “accept call”.\n",
        "\n",
        "Also, as a limitation of the AIML based chatbot, if no input pattern is satisfied, the boat will simply reply with default the generic statement “could not understand the phrase”.\n",
        "\n",
        "However, given rich AIML rules, it’s possible to form a chatbot that will handle a broad range of queries. It makes it the most effective suited domain-specific businesses, like banking where chatbot should handle generic queries associated with the banking domain.\n",
        "\"\"\""
      ],
      "metadata": {
        "id": "Nfne3nG2QiZM"
      },
      "execution_count": 39,
      "outputs": []
    },
    {
      "cell_type": "code",
      "source": [
        "from transformers import pipeline\n",
        "\n",
        "summarizer = pipeline(\"summarization\", model=\"facebook/bart-large-cnn\")"
      ],
      "metadata": {
        "id": "w2v1uRm2TCCv"
      },
      "execution_count": 40,
      "outputs": []
    },
    {
      "cell_type": "code",
      "source": [
        "print(summarizer(ARTICLE, max_length=400, min_length=90, do_sample=False))"
      ],
      "metadata": {
        "colab": {
          "base_uri": "https://localhost:8080/"
        },
        "id": "LIvm2s6GTmyO",
        "outputId": "76a853cf-54f8-4d65-c386-b58fb274efa7"
      },
      "execution_count": 44,
      "outputs": [
        {
          "output_type": "stream",
          "name": "stdout",
          "text": [
            "[{'summary_text': 'Chatbots are intelligent digital assistants which may address customer’s basic and predictable queries. They offer numerous services via chatting and perform basic customer service operations. Chatbots are getting context-aware and may engage end-users supported by the context set during the conversation. Most organizations have already started implementing chatbots on their sites especially on banking, airlines, and e-commerce websites. Some more samples of chatbot technology are virtual assistants like Alexa, Google Assistant, and Messaging apps, like WeChat and Facebook messenger.'}]\n"
          ]
        }
      ]
    },
    {
      "cell_type": "code",
      "source": [
        ""
      ],
      "metadata": {
        "id": "FA1OLzEfZxD4"
      },
      "execution_count": null,
      "outputs": []
    }
  ]
}